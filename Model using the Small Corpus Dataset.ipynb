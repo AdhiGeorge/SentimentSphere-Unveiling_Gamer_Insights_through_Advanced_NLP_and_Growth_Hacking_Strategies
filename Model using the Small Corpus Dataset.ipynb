{
 "cells": [
  {
   "cell_type": "code",
   "execution_count": 4,
   "id": "6a80728f-f2f2-4d6c-b4f7-65553d315d24",
   "metadata": {},
   "outputs": [],
   "source": [
    "import pandas as pd\n",
    "from nltk import pos_tag\n",
    "import nltk\n",
    "from nltk.tokenize import sent_tokenize\n",
    "from nltk.tokenize import TreebankWordTokenizer\n",
    "from nltk.stem import WordNetLemmatizer\n",
    "from nltk.corpus import wordnet as wn\n",
    "from nltk.corpus import sentiwordnet as swn\n",
    "from string import punctuation\n",
    "import numpy as np\n",
    "import seaborn as sns\n",
    "import matplotlib.pyplot as plt\n",
    "from sklearn import metrics"
   ]
  },
  {
   "cell_type": "code",
   "execution_count": 5,
   "id": "d40fbeea-6fa8-4ac6-b6ec-f0dc91b7a499",
   "metadata": {},
   "outputs": [
    {
     "data": {
      "text/plain": [
       "(4500, 12)"
      ]
     },
     "execution_count": 5,
     "metadata": {},
     "output_type": "execute_result"
    }
   ],
   "source": [
    "data = pd.read_csv(r\"D:\\Project\\Sentiment Analysis for Marketing\\Data\\Processed Data\\small_corpus.csv\")\n",
    "\n",
    "#shape of the data before dropping the missing values\n",
    "data.shape"
   ]
  },
  {
   "cell_type": "code",
   "execution_count": 6,
   "id": "9cca30a5-40d3-4055-a7ca-6be85a983b66",
   "metadata": {},
   "outputs": [
    {
     "data": {
      "text/html": [
       "<div>\n",
       "<style scoped>\n",
       "    .dataframe tbody tr th:only-of-type {\n",
       "        vertical-align: middle;\n",
       "    }\n",
       "\n",
       "    .dataframe tbody tr th {\n",
       "        vertical-align: top;\n",
       "    }\n",
       "\n",
       "    .dataframe thead th {\n",
       "        text-align: right;\n",
       "    }\n",
       "</style>\n",
       "<table border=\"1\" class=\"dataframe\">\n",
       "  <thead>\n",
       "    <tr style=\"text-align: right;\">\n",
       "      <th></th>\n",
       "      <th>overall</th>\n",
       "      <th>verified</th>\n",
       "      <th>reviewTime</th>\n",
       "      <th>reviewerID</th>\n",
       "      <th>asin</th>\n",
       "      <th>reviewerName</th>\n",
       "      <th>reviewText</th>\n",
       "      <th>summary</th>\n",
       "      <th>unixReviewTime</th>\n",
       "      <th>vote</th>\n",
       "      <th>style</th>\n",
       "      <th>image</th>\n",
       "    </tr>\n",
       "  </thead>\n",
       "  <tbody>\n",
       "    <tr>\n",
       "      <th>0</th>\n",
       "      <td>1.0</td>\n",
       "      <td>False</td>\n",
       "      <td>11 7, 2015</td>\n",
       "      <td>A3I155IWI3QFXI</td>\n",
       "      <td>B00VU4J13W</td>\n",
       "      <td>Metallicafan</td>\n",
       "      <td>Terrible game!! The guns sound ridiculous and ...</td>\n",
       "      <td>:(</td>\n",
       "      <td>1446854400</td>\n",
       "      <td>NaN</td>\n",
       "      <td>{'Format:': ' Video Game'}</td>\n",
       "      <td>NaN</td>\n",
       "    </tr>\n",
       "    <tr>\n",
       "      <th>1</th>\n",
       "      <td>1.0</td>\n",
       "      <td>False</td>\n",
       "      <td>08 10, 2008</td>\n",
       "      <td>A3E975KR2HRERX</td>\n",
       "      <td>B000GH3PYK</td>\n",
       "      <td>T. Coleman</td>\n",
       "      <td>fun?! ZERO is what I should be allowed to give...</td>\n",
       "      <td>Challengingly bland...</td>\n",
       "      <td>1218326400</td>\n",
       "      <td>NaN</td>\n",
       "      <td>{'Platform:': ' Sony PSP'}</td>\n",
       "      <td>NaN</td>\n",
       "    </tr>\n",
       "    <tr>\n",
       "      <th>2</th>\n",
       "      <td>1.0</td>\n",
       "      <td>False</td>\n",
       "      <td>04 18, 2013</td>\n",
       "      <td>AZITT56TNI5WD</td>\n",
       "      <td>B000SSQPU8</td>\n",
       "      <td>Kewlrane</td>\n",
       "      <td>If you like standard controls you will hate th...</td>\n",
       "      <td>I hate stylus games</td>\n",
       "      <td>1366243200</td>\n",
       "      <td>NaN</td>\n",
       "      <td>{'Format:': ' Video Game'}</td>\n",
       "      <td>NaN</td>\n",
       "    </tr>\n",
       "    <tr>\n",
       "      <th>3</th>\n",
       "      <td>1.0</td>\n",
       "      <td>True</td>\n",
       "      <td>04 2, 2015</td>\n",
       "      <td>A2QFWLLKIMU81M</td>\n",
       "      <td>B000OYITQO</td>\n",
       "      <td>Linda Ann Dullinger</td>\n",
       "      <td>it didn't work when I got it.</td>\n",
       "      <td>One Star</td>\n",
       "      <td>1427932800</td>\n",
       "      <td>NaN</td>\n",
       "      <td>NaN</td>\n",
       "      <td>NaN</td>\n",
       "    </tr>\n",
       "    <tr>\n",
       "      <th>4</th>\n",
       "      <td>1.0</td>\n",
       "      <td>True</td>\n",
       "      <td>10 4, 2009</td>\n",
       "      <td>A2KUQ8L9Q3UW5O</td>\n",
       "      <td>B0017HIH6O</td>\n",
       "      <td>Kengineer</td>\n",
       "      <td>I found it hard to get the controls to do what...</td>\n",
       "      <td>Sluggish controls</td>\n",
       "      <td>1254614400</td>\n",
       "      <td>2</td>\n",
       "      <td>NaN</td>\n",
       "      <td>NaN</td>\n",
       "    </tr>\n",
       "  </tbody>\n",
       "</table>\n",
       "</div>"
      ],
      "text/plain": [
       "   overall  verified   reviewTime      reviewerID        asin  \\\n",
       "0      1.0     False   11 7, 2015  A3I155IWI3QFXI  B00VU4J13W   \n",
       "1      1.0     False  08 10, 2008  A3E975KR2HRERX  B000GH3PYK   \n",
       "2      1.0     False  04 18, 2013   AZITT56TNI5WD  B000SSQPU8   \n",
       "3      1.0      True   04 2, 2015  A2QFWLLKIMU81M  B000OYITQO   \n",
       "4      1.0      True   10 4, 2009  A2KUQ8L9Q3UW5O  B0017HIH6O   \n",
       "\n",
       "          reviewerName                                         reviewText  \\\n",
       "0         Metallicafan  Terrible game!! The guns sound ridiculous and ...   \n",
       "1           T. Coleman  fun?! ZERO is what I should be allowed to give...   \n",
       "2             Kewlrane  If you like standard controls you will hate th...   \n",
       "3  Linda Ann Dullinger                      it didn't work when I got it.   \n",
       "4            Kengineer  I found it hard to get the controls to do what...   \n",
       "\n",
       "                  summary  unixReviewTime vote                       style  \\\n",
       "0                      :(      1446854400  NaN  {'Format:': ' Video Game'}   \n",
       "1  Challengingly bland...      1218326400  NaN  {'Platform:': ' Sony PSP'}   \n",
       "2     I hate stylus games      1366243200  NaN  {'Format:': ' Video Game'}   \n",
       "3                One Star      1427932800  NaN                         NaN   \n",
       "4       Sluggish controls      1254614400    2                         NaN   \n",
       "\n",
       "  image  \n",
       "0   NaN  \n",
       "1   NaN  \n",
       "2   NaN  \n",
       "3   NaN  \n",
       "4   NaN  "
      ]
     },
     "execution_count": 6,
     "metadata": {},
     "output_type": "execute_result"
    }
   ],
   "source": [
    "data.head()"
   ]
  },
  {
   "cell_type": "code",
   "execution_count": 7,
   "id": "80d789a5-c7f6-4fcd-b85f-e80e9de0780f",
   "metadata": {},
   "outputs": [],
   "source": [
    "data.dropna(subset = ['reviewText'],inplace=True)   #dropping the rows with missing values in the column named reviewText"
   ]
  },
  {
   "cell_type": "code",
   "execution_count": 8,
   "id": "30b7abbc-65cd-43cd-8e54-e578721a18c8",
   "metadata": {},
   "outputs": [
    {
     "data": {
      "text/plain": [
       "(4499, 12)"
      ]
     },
     "execution_count": 8,
     "metadata": {},
     "output_type": "execute_result"
    }
   ],
   "source": [
    "data.shape   #shape of the dataset after dropping the missing values"
   ]
  },
  {
   "cell_type": "code",
   "execution_count": 9,
   "id": "2c0be385-cef0-476b-9dae-6f4b17c346ef",
   "metadata": {},
   "outputs": [],
   "source": [
    "def penn_to_wn(tag):\n",
    "    \"\"\"\n",
    "    Convert Penn Treebank part-of-speech (POS) tags to WordNet POS tags.\n",
    "    \"\"\"\n",
    "    # Check if the tag is an adjective\n",
    "    if tag.startswith('J'):\n",
    "        return wn.ADJ  # Return WordNet adjective tag\n",
    "    # Check if the tag is a noun\n",
    "    elif tag.startswith('N'):\n",
    "        return wn.NOUN  # Return WordNet noun tag\n",
    "    # Check if the tag is an adverb\n",
    "    elif tag.startswith('R'):\n",
    "        return wn.ADV  # Return WordNet adverb tag\n",
    "    # Check if the tag is a verb\n",
    "    elif tag.startswith('V'):\n",
    "        return wn.VERB  # Return WordNet verb tag\n",
    "    \n",
    "    # If the tag does not match any known type, return None\n",
    "    return None"
   ]
  },
  {
   "cell_type": "code",
   "execution_count": 10,
   "id": "b5328b58-de35-460c-bf58-201732844078",
   "metadata": {},
   "outputs": [],
   "source": [
    "def get_sentiment_score(text):\n",
    "    \"\"\"\n",
    "    Calculate the sentiment score of a given text using SentiWordNet.\n",
    "    \"\"\"\n",
    "    # Initialize the total score for the text\n",
    "    total_score = 0\n",
    "\n",
    "    # Split the text into sentences\n",
    "    sentences = sent_tokenize(text)\n",
    "\n",
    "    # Loop through each sentence to calculate its sentiment score\n",
    "    for sentence in sentences:\n",
    "        sentence_score = 0  # Initialize the score for this sentence\n",
    "        \n",
    "        # Clean the sentence and make it lowercase\n",
    "        cleaned_sentence = sentence.replace(\"<br />\", \" \")  # Replace HTML line breaks with space\n",
    "        cleaned_sentence = cleaned_sentence.translate(str.maketrans('', '', punctuation))  # Remove punctuation\n",
    "        cleaned_sentence = cleaned_sentence.lower()\n",
    "\n",
    "        # Tokenize the sentence into words\n",
    "        words = TreebankWordTokenizer().tokenize(cleaned_sentence)\n",
    "\n",
    "        # Get the part-of-speech (POS) tags for each word\n",
    "        pos_tags = pos_tag(words)\n",
    "\n",
    "        # Loop through each word and its POS tag\n",
    "        for word, tag in pos_tags:\n",
    "            # Convert Penn Treebank POS tag to WordNet format\n",
    "            wn_tag = penn_to_wn(tag)\n",
    "            if not wn_tag:  # Skip if the tag can't be converted\n",
    "                continue\n",
    "\n",
    "            # Lemmatize the word (reduce it to its base form)\n",
    "            lemma = WordNetLemmatizer().lemmatize(word, pos=wn_tag)\n",
    "            if not lemma:  # Skip if no lemma is found\n",
    "                continue\n",
    "\n",
    "            # Get the WordNet synsets (sets of synonyms) for the lemma\n",
    "            synsets = wn.synsets(lemma, pos=wn_tag)\n",
    "            if not synsets:  # Skip if no synsets are found\n",
    "                continue\n",
    "\n",
    "            # Use the first synset (most common meaning)\n",
    "            synset = synsets[0]\n",
    "\n",
    "            # Get the sentiment scores from SentiWordNet\n",
    "            swn_synset = swn.senti_synset(synset.name())\n",
    "            sentence_score += swn_synset.pos_score() - swn_synset.neg_score()\n",
    "\n",
    "        # Add the sentence score to the total, dividing by the number of words to normalize\n",
    "        if len(words) > 0:\n",
    "            total_score += (sentence_score / len(words))\n",
    "\n",
    "    # Return the average sentiment score for all sentences (scaled by 100 for clarity)\n",
    "    if len(sentences) > 0:\n",
    "        return (total_score / len(sentences)) * 100\n",
    "    else:\n",
    "        return 0\n"
   ]
  },
  {
   "cell_type": "code",
   "execution_count": 11,
   "id": "8292e8e9-e908-4b7c-88ab-bb83a8a0b353",
   "metadata": {},
   "outputs": [],
   "source": [
    "data['swn_score'] = data['reviewText'].apply(lambda text : get_sentiment_score(text))"
   ]
  },
  {
   "cell_type": "code",
   "execution_count": 12,
   "id": "5bd9aafd-e8a4-4fb4-bf5d-986d330ea6dd",
   "metadata": {},
   "outputs": [
    {
     "data": {
      "text/html": [
       "<div>\n",
       "<style scoped>\n",
       "    .dataframe tbody tr th:only-of-type {\n",
       "        vertical-align: middle;\n",
       "    }\n",
       "\n",
       "    .dataframe tbody tr th {\n",
       "        vertical-align: top;\n",
       "    }\n",
       "\n",
       "    .dataframe thead th {\n",
       "        text-align: right;\n",
       "    }\n",
       "</style>\n",
       "<table border=\"1\" class=\"dataframe\">\n",
       "  <thead>\n",
       "    <tr style=\"text-align: right;\">\n",
       "      <th></th>\n",
       "      <th>reviewText</th>\n",
       "      <th>swn_score</th>\n",
       "    </tr>\n",
       "  </thead>\n",
       "  <tbody>\n",
       "    <tr>\n",
       "      <th>0</th>\n",
       "      <td>Terrible game!! The guns sound ridiculous and ...</td>\n",
       "      <td>-13.446970</td>\n",
       "    </tr>\n",
       "    <tr>\n",
       "      <th>1</th>\n",
       "      <td>fun?! ZERO is what I should be allowed to give...</td>\n",
       "      <td>5.917283</td>\n",
       "    </tr>\n",
       "  </tbody>\n",
       "</table>\n",
       "</div>"
      ],
      "text/plain": [
       "                                          reviewText  swn_score\n",
       "0  Terrible game!! The guns sound ridiculous and ... -13.446970\n",
       "1  fun?! ZERO is what I should be allowed to give...   5.917283"
      ]
     },
     "execution_count": 12,
     "metadata": {},
     "output_type": "execute_result"
    }
   ],
   "source": [
    "data[['reviewText','swn_score']].head(2)"
   ]
  },
  {
   "cell_type": "code",
   "execution_count": 13,
   "id": "d8bd1466-043b-4aa0-9994-2696654350f8",
   "metadata": {},
   "outputs": [
    {
     "data": {
      "text/plain": [
       "Index(['overall', 'verified', 'reviewTime', 'reviewerID', 'asin',\n",
       "       'reviewerName', 'reviewText', 'summary', 'unixReviewTime', 'vote',\n",
       "       'style', 'image', 'swn_score'],\n",
       "      dtype='object')"
      ]
     },
     "execution_count": 13,
     "metadata": {},
     "output_type": "execute_result"
    }
   ],
   "source": [
    "data.columns"
   ]
  },
  {
   "cell_type": "code",
   "execution_count": 14,
   "id": "cad9c0ab-40f4-46c0-aad9-10057fc399d0",
   "metadata": {},
   "outputs": [
    {
     "data": {
      "image/png": "[encoded data removed]",
      "text/plain": [
       "<Figure size 2000x1000 with 1 Axes>"
      ]
     },
     "metadata": {},
     "output_type": "display_data"
    }
   ],
   "source": [
    "fig, ax = plt.subplots(figsize=(20, 10))\n",
    "sns.histplot(x='swn_score', data=data.query(\"swn_score < 8 and swn_score > -8\"), ax=ax)\n",
    "plt.show()"
   ]
  },
  {
   "cell_type": "code",
   "execution_count": 15,
   "id": "b0536b23-48ac-46bd-b75a-7cf6c3048605",
   "metadata": {},
   "outputs": [],
   "source": [
    "data['swn_sentiment'] = data['swn_score'].apply(lambda i:\"positive\" if i>1 else \"negative\" if i<0.5 else 'neutral')"
   ]
  },
  {
   "cell_type": "code",
   "execution_count": 16,
   "id": "ef060b4f-ddbe-4516-9782-e235277919a7",
   "metadata": {},
   "outputs": [
    {
     "data": {
      "text/html": [
       "<div>\n",
       "<style scoped>\n",
       "    .dataframe tbody tr th:only-of-type {\n",
       "        vertical-align: middle;\n",
       "    }\n",
       "\n",
       "    .dataframe tbody tr th {\n",
       "        vertical-align: top;\n",
       "    }\n",
       "\n",
       "    .dataframe thead th {\n",
       "        text-align: right;\n",
       "    }\n",
       "</style>\n",
       "<table border=\"1\" class=\"dataframe\">\n",
       "  <thead>\n",
       "    <tr style=\"text-align: right;\">\n",
       "      <th></th>\n",
       "      <th>reviewText</th>\n",
       "      <th>swn_score</th>\n",
       "      <th>swn_sentiment</th>\n",
       "    </tr>\n",
       "  </thead>\n",
       "  <tbody>\n",
       "    <tr>\n",
       "      <th>0</th>\n",
       "      <td>Terrible game!! The guns sound ridiculous and ...</td>\n",
       "      <td>-13.446970</td>\n",
       "      <td>negative</td>\n",
       "    </tr>\n",
       "    <tr>\n",
       "      <th>1</th>\n",
       "      <td>fun?! ZERO is what I should be allowed to give...</td>\n",
       "      <td>5.917283</td>\n",
       "      <td>positive</td>\n",
       "    </tr>\n",
       "    <tr>\n",
       "      <th>2</th>\n",
       "      <td>If you like standard controls you will hate th...</td>\n",
       "      <td>-2.083333</td>\n",
       "      <td>negative</td>\n",
       "    </tr>\n",
       "    <tr>\n",
       "      <th>3</th>\n",
       "      <td>it didn't work when I got it.</td>\n",
       "      <td>1.785714</td>\n",
       "      <td>positive</td>\n",
       "    </tr>\n",
       "    <tr>\n",
       "      <th>4</th>\n",
       "      <td>I found it hard to get the controls to do what...</td>\n",
       "      <td>-1.314484</td>\n",
       "      <td>negative</td>\n",
       "    </tr>\n",
       "    <tr>\n",
       "      <th>5</th>\n",
       "      <td>no clear mission</td>\n",
       "      <td>16.666667</td>\n",
       "      <td>positive</td>\n",
       "    </tr>\n",
       "    <tr>\n",
       "      <th>6</th>\n",
       "      <td>Sega used to be a good company, but this is li...</td>\n",
       "      <td>-3.425802</td>\n",
       "      <td>negative</td>\n",
       "    </tr>\n",
       "    <tr>\n",
       "      <th>7</th>\n",
       "      <td>This game is not worth the time it takes you t...</td>\n",
       "      <td>-2.380952</td>\n",
       "      <td>negative</td>\n",
       "    </tr>\n",
       "    <tr>\n",
       "      <th>8</th>\n",
       "      <td>it came in a sandwich bag dude and i think who...</td>\n",
       "      <td>0.581395</td>\n",
       "      <td>neutral</td>\n",
       "    </tr>\n",
       "    <tr>\n",
       "      <th>9</th>\n",
       "      <td>Its a shame to much opposite to the regular MO...</td>\n",
       "      <td>1.470588</td>\n",
       "      <td>positive</td>\n",
       "    </tr>\n",
       "  </tbody>\n",
       "</table>\n",
       "</div>"
      ],
      "text/plain": [
       "                                          reviewText  swn_score swn_sentiment\n",
       "0  Terrible game!! The guns sound ridiculous and ... -13.446970      negative\n",
       "1  fun?! ZERO is what I should be allowed to give...   5.917283      positive\n",
       "2  If you like standard controls you will hate th...  -2.083333      negative\n",
       "3                      it didn't work when I got it.   1.785714      positive\n",
       "4  I found it hard to get the controls to do what...  -1.314484      negative\n",
       "5                                   no clear mission  16.666667      positive\n",
       "6  Sega used to be a good company, but this is li...  -3.425802      negative\n",
       "7  This game is not worth the time it takes you t...  -2.380952      negative\n",
       "8  it came in a sandwich bag dude and i think who...   0.581395       neutral\n",
       "9  Its a shame to much opposite to the regular MO...   1.470588      positive"
      ]
     },
     "execution_count": 16,
     "metadata": {},
     "output_type": "execute_result"
    }
   ],
   "source": [
    "data[[\"reviewText\",\"swn_score\",\"swn_sentiment\"]].head(10)"
   ]
  },
  {
   "cell_type": "code",
   "execution_count": 17,
   "id": "bdd0653f-a5c7-494a-a8a2-5045efdb724d",
   "metadata": {},
   "outputs": [
    {
     "data": {
      "text/plain": [
       "overall              0\n",
       "verified             0\n",
       "reviewTime           0\n",
       "reviewerID           0\n",
       "asin                 0\n",
       "reviewerName         0\n",
       "reviewText           0\n",
       "summary              3\n",
       "unixReviewTime       0\n",
       "vote              3130\n",
       "style             1835\n",
       "image             4462\n",
       "swn_score            0\n",
       "swn_sentiment        0\n",
       "dtype: int64"
      ]
     },
     "execution_count": 17,
     "metadata": {},
     "output_type": "execute_result"
    }
   ],
   "source": [
    "data.isna().sum()"
   ]
  },
  {
   "cell_type": "code",
   "execution_count": 18,
   "id": "7dd9b4d9-377d-410d-aaad-3afdecd584ea",
   "metadata": {},
   "outputs": [
    {
     "data": {
      "text/plain": [
       "swn_sentiment\n",
       "positive    2264\n",
       "negative    1927\n",
       "neutral      308\n",
       "Name: count, dtype: int64"
      ]
     },
     "execution_count": 18,
     "metadata": {},
     "output_type": "execute_result"
    }
   ],
   "source": [
    "data[\"swn_sentiment\"].value_counts()"
   ]
  },
  {
   "cell_type": "code",
   "execution_count": 19,
   "id": "8fdcb9d4-0f1d-4276-843c-fa9e36024907",
   "metadata": {},
   "outputs": [
    {
     "data": {
      "text/plain": [
       "array([1., 2., 3., 4., 5.])"
      ]
     },
     "execution_count": 19,
     "metadata": {},
     "output_type": "execute_result"
    }
   ],
   "source": [
    "data[\"overall\"].unique()"
   ]
  },
  {
   "cell_type": "code",
   "execution_count": 20,
   "id": "2ac58397-745d-4885-ba9e-eff57ccf619a",
   "metadata": {},
   "outputs": [
    {
     "data": {
      "text/plain": [
       "<Axes: xlabel='overall', ylabel='count'>"
      ]
     },
     "execution_count": 20,
     "metadata": {},
     "output_type": "execute_result"
    },
    {
     "data": {
      "image/png": "[encoded data removed]",
      "text/plain": [
       "<Figure size 640x480 with 1 Axes>"
      ]
     },
     "metadata": {},
     "output_type": "display_data"
    }
   ],
   "source": [
    "sns.countplot(x =\"overall\",hue =\"swn_sentiment\" , data = data)"
   ]
  },
  {
   "cell_type": "code",
   "execution_count": 21,
   "id": "dfd4d61d-2cc2-4590-aedc-3c4b8a6183dd",
   "metadata": {},
   "outputs": [],
   "source": [
    "data['true_sentiment'] = data['overall'].apply(lambda x:\"positive\" if x>=4 else \"negative\" if x<3 else \"neutral\")"
   ]
  },
  {
   "cell_type": "code",
   "execution_count": 22,
   "id": "e98be678-ccd8-41ef-b1c2-89de49ae8f26",
   "metadata": {},
   "outputs": [
    {
     "data": {
      "text/html": [
       "<div>\n",
       "<style scoped>\n",
       "    .dataframe tbody tr th:only-of-type {\n",
       "        vertical-align: middle;\n",
       "    }\n",
       "\n",
       "    .dataframe tbody tr th {\n",
       "        vertical-align: top;\n",
       "    }\n",
       "\n",
       "    .dataframe thead th {\n",
       "        text-align: right;\n",
       "    }\n",
       "</style>\n",
       "<table border=\"1\" class=\"dataframe\">\n",
       "  <thead>\n",
       "    <tr style=\"text-align: right;\">\n",
       "      <th></th>\n",
       "      <th>reviewText</th>\n",
       "      <th>swn_score</th>\n",
       "      <th>swn_sentiment</th>\n",
       "      <th>true_sentiment</th>\n",
       "    </tr>\n",
       "  </thead>\n",
       "  <tbody>\n",
       "    <tr>\n",
       "      <th>0</th>\n",
       "      <td>Terrible game!! The guns sound ridiculous and ...</td>\n",
       "      <td>-13.446970</td>\n",
       "      <td>negative</td>\n",
       "      <td>negative</td>\n",
       "    </tr>\n",
       "    <tr>\n",
       "      <th>1</th>\n",
       "      <td>fun?! ZERO is what I should be allowed to give...</td>\n",
       "      <td>5.917283</td>\n",
       "      <td>positive</td>\n",
       "      <td>negative</td>\n",
       "    </tr>\n",
       "    <tr>\n",
       "      <th>2</th>\n",
       "      <td>If you like standard controls you will hate th...</td>\n",
       "      <td>-2.083333</td>\n",
       "      <td>negative</td>\n",
       "      <td>negative</td>\n",
       "    </tr>\n",
       "    <tr>\n",
       "      <th>3</th>\n",
       "      <td>it didn't work when I got it.</td>\n",
       "      <td>1.785714</td>\n",
       "      <td>positive</td>\n",
       "      <td>negative</td>\n",
       "    </tr>\n",
       "    <tr>\n",
       "      <th>4</th>\n",
       "      <td>I found it hard to get the controls to do what...</td>\n",
       "      <td>-1.314484</td>\n",
       "      <td>negative</td>\n",
       "      <td>negative</td>\n",
       "    </tr>\n",
       "    <tr>\n",
       "      <th>5</th>\n",
       "      <td>no clear mission</td>\n",
       "      <td>16.666667</td>\n",
       "      <td>positive</td>\n",
       "      <td>negative</td>\n",
       "    </tr>\n",
       "    <tr>\n",
       "      <th>6</th>\n",
       "      <td>Sega used to be a good company, but this is li...</td>\n",
       "      <td>-3.425802</td>\n",
       "      <td>negative</td>\n",
       "      <td>negative</td>\n",
       "    </tr>\n",
       "    <tr>\n",
       "      <th>7</th>\n",
       "      <td>This game is not worth the time it takes you t...</td>\n",
       "      <td>-2.380952</td>\n",
       "      <td>negative</td>\n",
       "      <td>negative</td>\n",
       "    </tr>\n",
       "    <tr>\n",
       "      <th>8</th>\n",
       "      <td>it came in a sandwich bag dude and i think who...</td>\n",
       "      <td>0.581395</td>\n",
       "      <td>neutral</td>\n",
       "      <td>negative</td>\n",
       "    </tr>\n",
       "    <tr>\n",
       "      <th>9</th>\n",
       "      <td>Its a shame to much opposite to the regular MO...</td>\n",
       "      <td>1.470588</td>\n",
       "      <td>positive</td>\n",
       "      <td>negative</td>\n",
       "    </tr>\n",
       "  </tbody>\n",
       "</table>\n",
       "</div>"
      ],
      "text/plain": [
       "                                          reviewText  swn_score swn_sentiment  \\\n",
       "0  Terrible game!! The guns sound ridiculous and ... -13.446970      negative   \n",
       "1  fun?! ZERO is what I should be allowed to give...   5.917283      positive   \n",
       "2  If you like standard controls you will hate th...  -2.083333      negative   \n",
       "3                      it didn't work when I got it.   1.785714      positive   \n",
       "4  I found it hard to get the controls to do what...  -1.314484      negative   \n",
       "5                                   no clear mission  16.666667      positive   \n",
       "6  Sega used to be a good company, but this is li...  -3.425802      negative   \n",
       "7  This game is not worth the time it takes you t...  -2.380952      negative   \n",
       "8  it came in a sandwich bag dude and i think who...   0.581395       neutral   \n",
       "9  Its a shame to much opposite to the regular MO...   1.470588      positive   \n",
       "\n",
       "  true_sentiment  \n",
       "0       negative  \n",
       "1       negative  \n",
       "2       negative  \n",
       "3       negative  \n",
       "4       negative  \n",
       "5       negative  \n",
       "6       negative  \n",
       "7       negative  \n",
       "8       negative  \n",
       "9       negative  "
      ]
     },
     "execution_count": 22,
     "metadata": {},
     "output_type": "execute_result"
    }
   ],
   "source": [
    "data[[\"reviewText\",\"swn_score\",\"swn_sentiment\",\"true_sentiment\"]].head(10)"
   ]
  },
  {
   "cell_type": "code",
   "execution_count": 23,
   "id": "fc2e55e3-9518-40d0-aad5-8474c4a89fd3",
   "metadata": {},
   "outputs": [],
   "source": [
    "predSentiment = data['swn_sentiment'].tolist()\n",
    "trueSentiment = data['true_sentiment'].tolist()"
   ]
  },
  {
   "cell_type": "code",
   "execution_count": 24,
   "id": "e648af87-4b14-422b-9fcf-301b23c58e8c",
   "metadata": {},
   "outputs": [
    {
     "data": {
      "text/plain": [
       "array([[1221,  199,  507],\n",
       "       [ 149,   51,  108],\n",
       "       [ 630,  250, 1384]], dtype=int64)"
      ]
     },
     "execution_count": 24,
     "metadata": {},
     "output_type": "execute_result"
    }
   ],
   "source": [
    "metrics.confusion_matrix(predSentiment,trueSentiment)"
   ]
  },
  {
   "cell_type": "code",
   "execution_count": 25,
   "id": "96460f96-bb26-4c6c-9069-c5ed21f26edf",
   "metadata": {},
   "outputs": [
    {
     "data": {
      "text/plain": [
       "0.5903534118693043"
      ]
     },
     "execution_count": 25,
     "metadata": {},
     "output_type": "execute_result"
    }
   ],
   "source": [
    "metrics.accuracy_score(predSentiment,trueSentiment)"
   ]
  },
  {
   "cell_type": "code",
   "execution_count": 26,
   "id": "c689cfa1-b12c-4410-b3cd-7acad60a44dd",
   "metadata": {},
   "outputs": [],
   "source": [
    "conf = metrics.ConfusionMatrixDisplay((metrics.confusion_matrix(predSentiment,trueSentiment)))"
   ]
  },
  {
   "cell_type": "code",
   "execution_count": 27,
   "id": "b28783c0-2ec5-423f-afb8-3f0c8a4768fc",
   "metadata": {},
   "outputs": [
    {
     "data": {
      "text/plain": [
       "<sklearn.metrics._plot.confusion_matrix.ConfusionMatrixDisplay at 0x1816768eed0>"
      ]
     },
     "execution_count": 27,
     "metadata": {},
     "output_type": "execute_result"
    },
    {
     "data": {
      "image/png": "[encoded data removed]",
      "text/plain": [
       "<Figure size 640x480 with 2 Axes>"
      ]
     },
     "metadata": {},
     "output_type": "display_data"
    }
   ],
   "source": [
    "conf.plot()"
   ]
  },
  {
   "cell_type": "code",
   "execution_count": 28,
   "id": "938a6d4a-e520-4f24-89af-ccf25cadb2f8",
   "metadata": {},
   "outputs": [
    {
     "name": "stdout",
     "output_type": "stream",
     "text": [
      "              precision    recall  f1-score   support\n",
      "\n",
      "    negative       0.61      0.63      0.62      1927\n",
      "     neutral       0.10      0.17      0.13       308\n",
      "    positive       0.69      0.61      0.65      2264\n",
      "\n",
      "    accuracy                           0.59      4499\n",
      "   macro avg       0.47      0.47      0.47      4499\n",
      "weighted avg       0.62      0.59      0.60      4499\n",
      "\n"
     ]
    }
   ],
   "source": [
    "print(metrics.classification_report(predSentiment,trueSentiment))"
   ]
  }
 ],
 "metadata": {
  "kernelspec": {
   "display_name": "Python 3 (ipykernel)",
   "language": "python",
   "name": "python3"
  },
  "language_info": {
   "codemirror_mode": {
    "name": "ipython",
    "version": 3
   },
   "file_extension": ".py",
   "mimetype": "text/x-python",
   "name": "python",
   "nbconvert_exporter": "python",
   "pygments_lexer": "ipython3",
   "version": "3.11.7"
  }
 },
 "nbformat": 4,
 "nbformat_minor": 5
}
